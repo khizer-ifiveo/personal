{
 "cells": [
  {
   "cell_type": "markdown",
   "id": "7cd757e5-f744-480e-9d46-164b8d15e03d",
   "metadata": {},
   "source": [
    "## Building an LLM classifier for classifying manufacturing prompts"
   ]
  },
  {
   "cell_type": "markdown",
   "id": "7c728de3-8ae4-47ec-97af-613b039808fc",
   "metadata": {},
   "source": [
    "In the text classification space, a trend is emerging where developers and teams are leveraging large language models (LLMs) when building an AI-based classifier system. This is opposed to building a system from scratch on their own, which first, requires the team to have the know-how in machine learning and engineering, and second, requires a huge amount of labeled training data to build a working solution.\r\n",
    "\r\n",
    "With LLMs, instead of having to prepare thousands of training data points, you can get up and running with just a handful of examples per class, called few-shot classificatio For manufacturing organizations looking to implement Large Language Models in their organizations, this is a great way to get started. n."
   ]
  },
  {
   "cell_type": "markdown",
   "id": "c60618c1-f968-4abf-9b27-ddb400637681",
   "metadata": {},
   "source": [
    "## Step 1: Setup"
   ]
  },
  {
   "cell_type": "markdown",
   "id": "283f4dd6-0d9f-475c-8724-cb9ce765c965",
   "metadata": {},
   "source": [
    "We will be using the Cohere libraries for this example. You can learn more about Cohere at this link: https://docs.cohere.com/docs/few-shot-classification"
   ]
  },
  {
   "cell_type": "code",
   "execution_count": 7,
   "id": "6dd0a6d2-4142-4426-b32a-b961b04c6fbb",
   "metadata": {},
   "outputs": [],
   "source": [
    "import cohere\n",
    "from cohere import ClassifyExample"
   ]
  },
  {
   "cell_type": "markdown",
   "id": "aa006055-4b57-4bdc-a082-2bf27d1e62cf",
   "metadata": {},
   "source": [
    "Fill in your Cohere API key in the next cell. To do this, begin by signing up to Cohere (for free!) if you haven't yet. Then get your API key here: https://dashboard.cohere.com/api-keys."
   ]
  },
  {
   "cell_type": "code",
   "execution_count": 8,
   "id": "a55ada75-cdcb-4c9c-849a-7fad29c700da",
   "metadata": {},
   "outputs": [],
   "source": [
    "co = cohere.Client(\"COHERE_API_KEY\") # Your Cohere API key"
   ]
  },
  {
   "cell_type": "markdown",
   "id": "40970f1d-5271-4e8c-8a07-cd47a5a25e83",
   "metadata": {},
   "source": [
    "## Step 2: Prepare Examples and Input"
   ]
  },
  {
   "cell_type": "markdown",
   "id": "fd5f5fef-e791-45e7-a2e7-5e921e24b560",
   "metadata": {},
   "source": [
    "A typical machine learning model requires many training examples to perform text classification, but with the Classify endpoint, you can get started with as few as 5 examples per class. Add your manufacturing training examples below. I've prepared a few examples already which pertain to the three classes processing_time, productivity and waiting_time. "
   ]
  },
  {
   "cell_type": "code",
   "execution_count": 3,
   "id": "d2290bdd-ba8b-48b4-b157-ecc763b9d268",
   "metadata": {},
   "outputs": [],
   "source": [
    "# Create the training examples for the classifier\n",
    "examples = [ClassifyExample(text=\"what was the processing time for station A today\", label=\"processing_time\"), \n",
    "            ClassifyExample(text=\"how productive was station A today\", label=\"productivity\"), \n",
    "            ClassifyExample(text=\"what was the processing time for station A today\", label=\"processing_time\"), \n",
    "            ClassifyExample(text=\"how productive was station B today\", label=\"productivity\"), \n",
    "            ClassifyExample(text=\"what was the processing time for OP 150\", label=\"processing_time\"), \n",
    "            ClassifyExample(text=\"what was the processing time for OP 160\", label=\"processing_time\"), \n",
    "            ClassifyExample(text=\"what was my bottleneck station today\", label=\"processing_time\"), \n",
    "            ClassifyExample(text=\"what was the unproductive time on OP 170\", label=\"productivity\"), \n",
    "            ClassifyExample(text=\"how much downtime was on station C today\", label=\"productivity\"), \n",
    "            ClassifyExample(text=\"how many chairs were in waiting on the base line \", label=\"waiting_time\"),\n",
    "            ClassifyExample(text=\"how many chairs were in waiting in QC\", label=\"waiting_time\"), \n",
    "            ClassifyExample(text=\"how many chairs did we produce today\", label=\"productivity\"), \n",
    "            ClassifyExample(text=\"how does my processing time compare to yesterday's time\", label=\"processing_time\"), \n",
    "            ClassifyExample(text=\"how long were the chairs in waiting on OP 160\", label=\"waiting_time\"), \n",
    "            ClassifyExample(text=\"show me the processing time for all stations\", label=\"processing_time\"),\n",
    "            ClassifyExample(text=\"how much downtime was on my line today\", label=\"productivity\"),\n",
    "            ClassifyExample(text=\"show me the value stream map for today\", label=\"processing_time\")]"
   ]
  },
  {
   "cell_type": "code",
   "execution_count": 4,
   "id": "264c02c3-82ca-4cb4-8c36-9470171b72bb",
   "metadata": {},
   "outputs": [],
   "source": [
    "# Enter the inputs to be classified\n",
    "inputs = [\"What's my bottleneck station\",\n",
    "          \"What is my station productivity\",\n",
    "          \"Why was productivity low on station 2\",\n",
    "          \"Why were chairs sitting idle for so long\",\n",
    "          \"What was the root cause of problems on Line 20 today\",\n",
    "          \"Did I meet my takt time today\",\n",
    "          \"What was my efficiency\"]"
   ]
  },
  {
   "cell_type": "markdown",
   "id": "d00bccb5-2e86-4e1c-a5d4-0ef3966071f6",
   "metadata": {},
   "source": [
    "## Step 3: Generate Predictions"
   ]
  },
  {
   "cell_type": "markdown",
   "id": "ccafac3e-cbb1-4c30-9f1c-53d2199ad945",
   "metadata": {},
   "source": [
    "Now we can use the training examples to generate predictions for our inputs to see how well the model learned our manufacturing specific prompts."
   ]
  },
  {
   "cell_type": "code",
   "execution_count": 5,
   "id": "e30553bf-0a3f-46fb-a92f-222121134759",
   "metadata": {},
   "outputs": [],
   "source": [
    "def classify_text(inputs, examples):\n",
    "    \"\"\"\n",
    "    Classifies a list of input texts given the examples\n",
    "    Arguments:\n",
    "        model (str): identifier of the model\n",
    "        inputs (list[str]): a list of input texts to be classified\n",
    "        examples (list[Example]): a list of example texts and class labels\n",
    "    Returns:\n",
    "        classifications (list): each result contains the text, labels, and conf values\n",
    "    \"\"\"\n",
    "    # Classify text by calling the Classify endpoint\n",
    "    response = co.classify(\n",
    "        model='embed-english-v2.0',\n",
    "        inputs=inputs,\n",
    "        examples=examples)\n",
    "\n",
    "    classifications = response.classifications\n",
    "\n",
    "    return classifications\n",
    "\n",
    "# Classify the inputs\n",
    "predictions = classify_text(inputs, examples)"
   ]
  },
  {
   "cell_type": "code",
   "execution_count": 6,
   "id": "2753d5bb-170e-4b64-b5b0-16a026ceaec1",
   "metadata": {},
   "outputs": [
    {
     "name": "stdout",
     "output_type": "stream",
     "text": [
      "Input: What's my bottleneck station\n",
      "Prediction: processing_time\n",
      "Confidence: 1.00\n",
      "----------\n",
      "Input: What is my station productivity\n",
      "Prediction: productivity\n",
      "Confidence: 0.98\n",
      "----------\n",
      "Input: Why was productivity low on station 2\n",
      "Prediction: productivity\n",
      "Confidence: 1.00\n",
      "----------\n",
      "Input: Why were chairs sitting idle for so long\n",
      "Prediction: waiting_time\n",
      "Confidence: 0.66\n",
      "----------\n",
      "Input: What was the root cause of problems on Line 20 today\n",
      "Prediction: productivity\n",
      "Confidence: 0.89\n",
      "----------\n",
      "Input: Did I meet my takt time today\n",
      "Prediction: processing_time\n",
      "Confidence: 0.57\n",
      "----------\n",
      "Input: What was my efficiency\n",
      "Prediction: productivity\n",
      "Confidence: 0.98\n",
      "----------\n"
     ]
    }
   ],
   "source": [
    "# Display the classification outcomes\n",
    "classes = [\"processing_time\", \"productivity\", \"waiting_time\"]\n",
    "for inp,pred in zip(inputs, predictions):\n",
    "    class_pred = pred.prediction\n",
    "    class_idx = classes.index(class_pred)\n",
    "    class_conf = pred.confidence\n",
    "\n",
    "    print(f\"Input: {inp}\")\n",
    "    print(f\"Prediction: {class_pred}\")\n",
    "    print(f\"Confidence: {class_conf:.2f}\")\n",
    "    print(\"-\"*10)"
   ]
  },
  {
   "cell_type": "markdown",
   "id": "d8765483-eff1-49dc-a345-de725a6319d5",
   "metadata": {},
   "source": [
    "## How to use this example"
   ]
  },
  {
   "cell_type": "markdown",
   "id": "d58080fb-f283-42b5-b02f-0a344702874b",
   "metadata": {},
   "source": [
    "This is a simple classification example that shows how LLM classification models can be trained using little data to produce high accuracy results. The classes can be linked to dashboards, data or visuals to make it easy for end users like manufacturing engineers to get the exact data they're looking for thereby saving precious time for data analysis. \n",
    "\n",
    "For more information on how to use LLMs with i-5O's data reach out to us at contact@ifiveo.com or schedule a meeting at the following link: https://i-5o.ai/Contact"
   ]
  },
  {
   "cell_type": "code",
   "execution_count": null,
   "id": "445535a3-ca7d-4e69-bf3f-f57724e88853",
   "metadata": {},
   "outputs": [],
   "source": []
  }
 ],
 "metadata": {
  "kernelspec": {
   "display_name": "Python 3 (ipykernel)",
   "language": "python",
   "name": "python3"
  },
  "language_info": {
   "codemirror_mode": {
    "name": "ipython",
    "version": 3
   },
   "file_extension": ".py",
   "mimetype": "text/x-python",
   "name": "python",
   "nbconvert_exporter": "python",
   "pygments_lexer": "ipython3",
   "version": "3.12.3"
  }
 },
 "nbformat": 4,
 "nbformat_minor": 5
}
